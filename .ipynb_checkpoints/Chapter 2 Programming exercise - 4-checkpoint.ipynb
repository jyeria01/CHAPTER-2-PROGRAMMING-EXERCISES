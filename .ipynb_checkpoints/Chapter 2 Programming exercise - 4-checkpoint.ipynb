{
 "cells": [
  {
   "cell_type": "markdown",
   "id": "c89f1c6c",
   "metadata": {},
   "source": [
    "# Exercise 4 - TOTAL PURCHASES"
   ]
  },
  {
   "cell_type": "markdown",
   "id": "eece1a33",
   "metadata": {},
   "source": [
    "# 1. Input the price of each item\n",
    "# 2. Display subtotal of total items\n",
    "# 3. Add sale tax\n",
    "# 4. Display total of items and sale tax"
   ]
  },
  {
   "cell_type": "markdown",
   "id": "a50088e0",
   "metadata": {},
   "source": [
    "## first produce the code for the 5 items"
   ]
  },
  {
   "cell_type": "code",
   "execution_count": 1,
   "id": "e6035165",
   "metadata": {},
   "outputs": [
    {
     "name": "stdout",
     "output_type": "stream",
     "text": [
      "What is the price of the first item? 12.99\n"
     ]
    }
   ],
   "source": [
    "first_price = float(input('What is the price of the first item? '))"
   ]
  },
  {
   "cell_type": "code",
   "execution_count": 2,
   "id": "b6bf1c0f",
   "metadata": {},
   "outputs": [
    {
     "name": "stdout",
     "output_type": "stream",
     "text": [
      "What is the price of the second item? 10.99\n"
     ]
    }
   ],
   "source": [
    "second_price = float(input('What is the price of the second item? '))"
   ]
  },
  {
   "cell_type": "markdown",
   "id": "476185e8",
   "metadata": {},
   "source": [
    "# For the third price I will display \"What's\" rather than \"What is\""
   ]
  },
  {
   "cell_type": "code",
   "execution_count": 3,
   "id": "89350fb0",
   "metadata": {},
   "outputs": [
    {
     "name": "stdout",
     "output_type": "stream",
     "text": [
      "What's the price of the third item? 45.49\n"
     ]
    }
   ],
   "source": [
    "third_price = float(input(\"What's the price of the third item? \"))"
   ]
  },
  {
   "cell_type": "markdown",
   "id": "01c6cd08",
   "metadata": {},
   "source": [
    "## I messed up and misspelled price and item.  I could not go any farther until I went to the Kernal tab restart and clear output. This made me have to enter the price of the previous two items again."
   ]
  },
  {
   "cell_type": "code",
   "execution_count": 4,
   "id": "16dd5ac4",
   "metadata": {},
   "outputs": [
    {
     "name": "stdout",
     "output_type": "stream",
     "text": [
      "What is the price of the fourth item? 14.25\n"
     ]
    }
   ],
   "source": [
    "fourth_price = float(input('What is the price of the fourth item? '))"
   ]
  },
  {
   "cell_type": "markdown",
   "id": "6e4306d2",
   "metadata": {},
   "source": [
    "## did it again and forgot the question mark - Is there a way to fix that without restarting and clearing the output?"
   ]
  },
  {
   "cell_type": "code",
   "execution_count": 5,
   "id": "a491adbb",
   "metadata": {},
   "outputs": [
    {
     "name": "stdout",
     "output_type": "stream",
     "text": [
      "What is the price of the fifth item? 55\n"
     ]
    }
   ],
   "source": [
    "fifth_price = float(input('What is the price of the fifth item? '))"
   ]
  },
  {
   "cell_type": "markdown",
   "id": "5f1951a9",
   "metadata": {},
   "source": [
    "# Adding all prices together to get the subtotal first_price + second_price and so on"
   ]
  },
  {
   "cell_type": "code",
   "execution_count": 7,
   "id": "70ebc5c6",
   "metadata": {},
   "outputs": [],
   "source": [
    "subtotal = (first_price + second_price + third_price + fourth_price + fifth_price)"
   ]
  },
  {
   "cell_type": "code",
   "execution_count": null,
   "id": "6849bdff",
   "metadata": {},
   "outputs": [],
   "source": []
  }
 ],
 "metadata": {
  "kernelspec": {
   "display_name": "Python 3 (ipykernel)",
   "language": "python",
   "name": "python3"
  },
  "language_info": {
   "codemirror_mode": {
    "name": "ipython",
    "version": 3
   },
   "file_extension": ".py",
   "mimetype": "text/x-python",
   "name": "python",
   "nbconvert_exporter": "python",
   "pygments_lexer": "ipython3",
   "version": "3.11.4"
  }
 },
 "nbformat": 4,
 "nbformat_minor": 5
}
