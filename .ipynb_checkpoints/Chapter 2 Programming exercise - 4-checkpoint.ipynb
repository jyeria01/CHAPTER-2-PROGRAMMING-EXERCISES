{
 "cells": [
  {
   "cell_type": "markdown",
   "id": "8de11fd7",
   "metadata": {},
   "source": [
    "# Exercise 4 - TOTAL PURCHASES"
   ]
  },
  {
   "cell_type": "markdown",
   "id": "7c86610f",
   "metadata": {},
   "source": [
    "# 1. Input the price of each item\n",
    "# 2. Display subtotal of total items\n",
    "# 3. Add sale tax\n",
    "# 4. Display total of items and sale tax"
   ]
  },
  {
   "cell_type": "markdown",
   "id": "f357f5ba",
   "metadata": {},
   "source": [
    "## first produce the code for the 5 items"
   ]
  },
  {
   "cell_type": "code",
   "execution_count": null,
   "id": "d2ee0bf2",
   "metadata": {},
   "outputs": [],
   "source": [
    "first_price = float(input('What is the price of the first item?'))"
   ]
  },
  {
   "cell_type": "code",
   "execution_count": null,
   "id": "494af197",
   "metadata": {},
   "outputs": [],
   "source": []
  }
 ],
 "metadata": {
  "kernelspec": {
   "display_name": "Python 3 (ipykernel)",
   "language": "python",
   "name": "python3"
  },
  "language_info": {
   "codemirror_mode": {
    "name": "ipython",
    "version": 3
   },
   "file_extension": ".py",
   "mimetype": "text/x-python",
   "name": "python",
   "nbconvert_exporter": "python",
   "pygments_lexer": "ipython3",
   "version": "3.11.4"
  }
 },
 "nbformat": 4,
 "nbformat_minor": 5
}
