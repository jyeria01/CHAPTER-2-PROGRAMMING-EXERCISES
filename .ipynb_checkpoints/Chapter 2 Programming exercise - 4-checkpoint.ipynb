{
 "cells": [
  {
   "cell_type": "markdown",
   "id": "11c95aa9",
   "metadata": {},
   "source": [
    "# Exercise 4 - TOTAL PURCHASES"
   ]
  },
  {
   "cell_type": "markdown",
   "id": "5eb5c617",
   "metadata": {},
   "source": [
    "# 1. Input the price of each item\n",
    "# 2. Display subtotal of total items\n",
    "# 3. Add sale tax\n",
    "# 4. Display total of items and sale tax"
   ]
  },
  {
   "cell_type": "markdown",
   "id": "6ae9593c",
   "metadata": {},
   "source": [
    "## first produce the code for the 5 items"
   ]
  },
  {
   "cell_type": "code",
   "execution_count": 1,
   "id": "35898a22",
   "metadata": {},
   "outputs": [
    {
     "name": "stdout",
     "output_type": "stream",
     "text": [
      "What is the price of the first item? 12.99\n"
     ]
    }
   ],
   "source": [
    "first_price = float(input('What is the price of the first item? '))"
   ]
  },
  {
   "cell_type": "code",
   "execution_count": 2,
   "id": "1050a2df",
   "metadata": {},
   "outputs": [
    {
     "name": "stdout",
     "output_type": "stream",
     "text": [
      "What is the price of the second item? 10.99\n"
     ]
    }
   ],
   "source": [
    "second_price = float(input('What is the price of the second item? '))"
   ]
  },
  {
   "cell_type": "markdown",
   "id": "46126d5d",
   "metadata": {},
   "source": [
    "# For the third price I will display \"What's\" rather than \"What is\""
   ]
  },
  {
   "cell_type": "code",
   "execution_count": 3,
   "id": "6e064150",
   "metadata": {},
   "outputs": [
    {
     "name": "stdout",
     "output_type": "stream",
     "text": [
      "What's the price of the third item? 45.49\n"
     ]
    }
   ],
   "source": [
    "third_price = float(input(\"What's the price of the third item? \"))"
   ]
  },
  {
   "cell_type": "markdown",
   "id": "01014ccc",
   "metadata": {},
   "source": [
    "## I messed up and misspelled price and item.  I could not go any farther until I went to the Kernal tab restart and clear output. This made me have to enter the price of the previous two items again."
   ]
  },
  {
   "cell_type": "code",
   "execution_count": 4,
   "id": "8a0dcf97",
   "metadata": {},
   "outputs": [
    {
     "name": "stdout",
     "output_type": "stream",
     "text": [
      "What is the price of the fourth item? 14.25\n"
     ]
    }
   ],
   "source": [
    "fourth_price = float(input('What is the price of the fourth item? '))"
   ]
  },
  {
   "cell_type": "markdown",
   "id": "45dbfb5c",
   "metadata": {},
   "source": [
    "## did it again and forgot the question mark - Is there a way to fix that without restarting and clearing the output?"
   ]
  },
  {
   "cell_type": "code",
   "execution_count": 5,
   "id": "e78c9327",
   "metadata": {},
   "outputs": [
    {
     "name": "stdout",
     "output_type": "stream",
     "text": [
      "What is the price of the fifth item? 55\n"
     ]
    }
   ],
   "source": [
    "fifth_price = float(input('What is the price of the fifth item? '))"
   ]
  },
  {
   "cell_type": "markdown",
   "id": "459bba2b",
   "metadata": {},
   "source": [
    "# Adding all prices together to get the subtotal first_price + second_price and so on"
   ]
  },
  {
   "cell_type": "code",
   "execution_count": 7,
   "id": "b7cdba95",
   "metadata": {},
   "outputs": [],
   "source": [
    "subtotal = (first_price + second_price + third_price + fourth_price + fifth_price)"
   ]
  },
  {
   "cell_type": "code",
   "execution_count": 8,
   "id": "2b7fc130",
   "metadata": {},
   "outputs": [],
   "source": [
    "tax = subtotal * 0.07"
   ]
  },
  {
   "cell_type": "markdown",
   "id": "a841ecca",
   "metadata": {},
   "source": [
    "# Added tax info"
   ]
  },
  {
   "cell_type": "markdown",
   "id": "243a9ad2",
   "metadata": {},
   "source": [
    "# Adding total which equals subtotal plus tax"
   ]
  },
  {
   "cell_type": "code",
   "execution_count": 9,
   "id": "c18c3b0a",
   "metadata": {},
   "outputs": [],
   "source": [
    "total = subtotal + tax"
   ]
  },
  {
   "cell_type": "markdown",
   "id": "8c3e2c46",
   "metadata": {},
   "source": [
    "# I will be using the F string .2f for rounding\n",
    "## This should display the final total"
   ]
  },
  {
   "cell_type": "code",
   "execution_count": 16,
   "id": "61b48f44",
   "metadata": {},
   "outputs": [
    {
     "name": "stdout",
     "output_type": "stream",
     "text": [
      "Subtotal: 138.72\n",
      "Tax: 9.71\n",
      "Total: 148.43\n"
     ]
    }
   ],
   "source": [
    "print(\"Subtotal:\", format(subtotal,'.2f'))\n",
    "print(\"Tax:\", format (tax,'.2f'))\n",
    "print(\"Total:\", format(total,'.2f'))"
   ]
  },
  {
   "cell_type": "markdown",
   "id": "4e07abbb",
   "metadata": {},
   "source": [
    "# I think there is an easier way without enter the price the way I did it"
   ]
  },
  {
   "cell_type": "code",
   "execution_count": null,
   "id": "c1eb40e3",
   "metadata": {},
   "outputs": [],
   "source": []
  }
 ],
 "metadata": {
  "kernelspec": {
   "display_name": "Python 3 (ipykernel)",
   "language": "python",
   "name": "python3"
  },
  "language_info": {
   "codemirror_mode": {
    "name": "ipython",
    "version": 3
   },
   "file_extension": ".py",
   "mimetype": "text/x-python",
   "name": "python",
   "nbconvert_exporter": "python",
   "pygments_lexer": "ipython3",
   "version": "3.11.4"
  }
 },
 "nbformat": 4,
 "nbformat_minor": 5
}
