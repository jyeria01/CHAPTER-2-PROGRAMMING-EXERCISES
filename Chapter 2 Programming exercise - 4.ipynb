{
 "cells": [
  {
   "cell_type": "markdown",
   "id": "50ca667a",
   "metadata": {},
   "source": [
    "# Exercise 4 - TOTAL PURCHASES"
   ]
  },
  {
   "cell_type": "markdown",
   "id": "908b12d3",
   "metadata": {},
   "source": [
    "# 1. Input the price of each item\n",
    "# 2. Display subtotal of total items\n",
    "# 3. Add sale tax\n",
    "# 4. Display total of items and sale tax"
   ]
  },
  {
   "cell_type": "markdown",
   "id": "6b001486",
   "metadata": {},
   "source": [
    "## first produce the code for the 5 items"
   ]
  },
  {
   "cell_type": "code",
   "execution_count": 1,
   "id": "282b8c35",
   "metadata": {},
   "outputs": [
    {
     "name": "stdout",
     "output_type": "stream",
     "text": [
      "What is the price of the first item? 12.99\n"
     ]
    }
   ],
   "source": [
    "first_price = float(input('What is the price of the first item? '))"
   ]
  },
  {
   "cell_type": "code",
   "execution_count": 2,
   "id": "5bfcb514",
   "metadata": {},
   "outputs": [
    {
     "name": "stdout",
     "output_type": "stream",
     "text": [
      "What is the price of the second item? 10.99\n"
     ]
    }
   ],
   "source": [
    "second_price = float(input('What is the price of the second item? '))"
   ]
  },
  {
   "cell_type": "markdown",
   "id": "86e2b5ab",
   "metadata": {},
   "source": [
    "# For the third price I will display \"What's\" rather than \"What is\""
   ]
  },
  {
   "cell_type": "code",
   "execution_count": 3,
   "id": "6035686f",
   "metadata": {},
   "outputs": [
    {
     "name": "stdout",
     "output_type": "stream",
     "text": [
      "What's the price of the third item? 45.49\n"
     ]
    }
   ],
   "source": [
    "third_price = float(input(\"What's the price of the third item? \"))"
   ]
  },
  {
   "cell_type": "markdown",
   "id": "3f20182f",
   "metadata": {},
   "source": [
    "## I messed up and misspelled price and item.  I could not go any farther until I went to the Kernal tab restart and clear output. This made me have to enter the price of the previous two items again."
   ]
  },
  {
   "cell_type": "code",
   "execution_count": 4,
   "id": "642ddb0c",
   "metadata": {},
   "outputs": [
    {
     "name": "stdout",
     "output_type": "stream",
     "text": [
      "What is the price of the fourth item? 14.25\n"
     ]
    }
   ],
   "source": [
    "fourth_price = float(input('What is the price of the fourth item? '))"
   ]
  },
  {
   "cell_type": "markdown",
   "id": "964ff892",
   "metadata": {},
   "source": [
    "## did it again and forgot the question mark - Is there a way to fix that without restarting and clearing the output?"
   ]
  },
  {
   "cell_type": "code",
   "execution_count": 5,
   "id": "07bc6699",
   "metadata": {},
   "outputs": [
    {
     "name": "stdout",
     "output_type": "stream",
     "text": [
      "What is the price of the fifth item? 55\n"
     ]
    }
   ],
   "source": [
    "fifth_price = float(input('What is the price of the fifth item? '))"
   ]
  },
  {
   "cell_type": "markdown",
   "id": "1d56cabc",
   "metadata": {},
   "source": [
    "# Adding all prices together to get the subtotal first_price + second_price and so on"
   ]
  },
  {
   "cell_type": "code",
   "execution_count": 7,
   "id": "b6fba9de",
   "metadata": {},
   "outputs": [],
   "source": [
    "subtotal = (first_price + second_price + third_price + fourth_price + fifth_price)"
   ]
  },
  {
   "cell_type": "code",
   "execution_count": 8,
   "id": "775ed2e4",
   "metadata": {},
   "outputs": [],
   "source": [
    "tax = subtotal * 0.07"
   ]
  },
  {
   "cell_type": "markdown",
   "id": "c76bf42a",
   "metadata": {},
   "source": [
    "# Added tax info"
   ]
  },
  {
   "cell_type": "markdown",
   "id": "94d60d8e",
   "metadata": {},
   "source": [
    "# Adding total which equals subtotal plus tax"
   ]
  },
  {
   "cell_type": "code",
   "execution_count": 9,
   "id": "297a295f",
   "metadata": {},
   "outputs": [],
   "source": [
    "total = subtotal + tax"
   ]
  },
  {
   "cell_type": "markdown",
   "id": "a9d39cc0",
   "metadata": {},
   "source": [
    "# I will be using the F string .2f for rounding"
   ]
  },
  {
   "cell_type": "code",
   "execution_count": 10,
   "id": "26e68659",
   "metadata": {},
   "outputs": [
    {
     "name": "stdout",
     "output_type": "stream",
     "text": [
      "Subtotal: 138.72\n",
      "Tax: 9.71\n"
     ]
    },
    {
     "ename": "ValueError",
     "evalue": "Format specifier missing precision",
     "output_type": "error",
     "traceback": [
      "\u001b[1;31m---------------------------------------------------------------------------\u001b[0m",
      "\u001b[1;31mValueError\u001b[0m                                Traceback (most recent call last)",
      "Cell \u001b[1;32mIn[10], line 3\u001b[0m\n\u001b[0;32m      1\u001b[0m \u001b[38;5;28mprint\u001b[39m(\u001b[38;5;124m\"\u001b[39m\u001b[38;5;124mSubtotal:\u001b[39m\u001b[38;5;124m\"\u001b[39m, \u001b[38;5;28mformat\u001b[39m(subtotal,\u001b[38;5;124m'\u001b[39m\u001b[38;5;124m.2f\u001b[39m\u001b[38;5;124m'\u001b[39m))\n\u001b[0;32m      2\u001b[0m \u001b[38;5;28mprint\u001b[39m(\u001b[38;5;124m\"\u001b[39m\u001b[38;5;124mTax:\u001b[39m\u001b[38;5;124m\"\u001b[39m, \u001b[38;5;28mformat\u001b[39m(tax,\u001b[38;5;124m'\u001b[39m\u001b[38;5;124m.2f\u001b[39m\u001b[38;5;124m'\u001b[39m))\n\u001b[1;32m----> 3\u001b[0m \u001b[38;5;28mprint\u001b[39m(\u001b[38;5;124m\"\u001b[39m\u001b[38;5;124mTotal:\u001b[39m\u001b[38;5;124m\"\u001b[39m, \u001b[38;5;28mformat\u001b[39m(total,\u001b[38;5;124m'\u001b[39m\u001b[38;5;124m2.f\u001b[39m\u001b[38;5;124m'\u001b[39m))\n",
      "\u001b[1;31mValueError\u001b[0m: Format specifier missing precision"
     ]
    }
   ],
   "source": [
    "print(\"Subtotal:\", format(subtotal,'.2f'))\n",
    "print(\"Tax:\", format(tax,'.2f'))\n",
    "print(\"Total:\", format(total,'2.f'))"
   ]
  },
  {
   "cell_type": "code",
   "execution_count": null,
   "id": "6ba3e614",
   "metadata": {},
   "outputs": [],
   "source": []
  }
 ],
 "metadata": {
  "kernelspec": {
   "display_name": "Python 3 (ipykernel)",
   "language": "python",
   "name": "python3"
  },
  "language_info": {
   "codemirror_mode": {
    "name": "ipython",
    "version": 3
   },
   "file_extension": ".py",
   "mimetype": "text/x-python",
   "name": "python",
   "nbconvert_exporter": "python",
   "pygments_lexer": "ipython3",
   "version": "3.11.4"
  }
 },
 "nbformat": 4,
 "nbformat_minor": 5
}
