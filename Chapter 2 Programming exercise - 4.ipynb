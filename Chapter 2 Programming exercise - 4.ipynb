{
 "cells": [
  {
   "cell_type": "markdown",
   "id": "7632ae84",
   "metadata": {},
   "source": [
    "# Exercise 4 - TOTAL PURCHASES"
   ]
  },
  {
   "cell_type": "markdown",
   "id": "4a8a3370",
   "metadata": {},
   "source": [
    "# 1. Input the price of each item\n",
    "# 2. Display subtotal of total items\n",
    "# 3. Add sale tax\n",
    "# 4. Display total of items and sale tax"
   ]
  },
  {
   "cell_type": "code",
   "execution_count": null,
   "id": "67fc4507",
   "metadata": {},
   "outputs": [],
   "source": []
  }
 ],
 "metadata": {
  "kernelspec": {
   "display_name": "Python 3 (ipykernel)",
   "language": "python",
   "name": "python3"
  },
  "language_info": {
   "codemirror_mode": {
    "name": "ipython",
    "version": 3
   },
   "file_extension": ".py",
   "mimetype": "text/x-python",
   "name": "python",
   "nbconvert_exporter": "python",
   "pygments_lexer": "ipython3",
   "version": "3.11.4"
  }
 },
 "nbformat": 4,
 "nbformat_minor": 5
}
